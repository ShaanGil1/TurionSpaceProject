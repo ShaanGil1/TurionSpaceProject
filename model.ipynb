{
 "cells": [
  {
   "cell_type": "code",
   "execution_count": 392,
   "metadata": {},
   "outputs": [],
   "source": [
    "import torch\n",
    "import torchvision.transforms as transforms\n",
    "import torchvision.datasets as datasets\n",
    "from torch import nn\n",
    "from torch import optim\n",
    "import numpy as np\n",
    "import matplotlib.pyplot as plt"
   ]
  },
  {
   "cell_type": "code",
   "execution_count": 244,
   "metadata": {},
   "outputs": [
    {
     "name": "stdout",
     "output_type": "stream",
     "text": [
      "True\n"
     ]
    },
    {
     "data": {
      "text/plain": [
       "'cuda'"
      ]
     },
     "execution_count": 244,
     "metadata": {},
     "output_type": "execute_result"
    }
   ],
   "source": [
    "# Use GPU if applicable\n",
    "print(torch.cuda.is_available())\n",
    "device = \"cpu\"\n",
    "if torch.cuda.is_available():\n",
    "    device = \"cuda\"\n",
    "device"
   ]
  },
  {
   "cell_type": "code",
   "execution_count": 379,
   "metadata": {},
   "outputs": [
    {
     "name": "stdout",
     "output_type": "stream",
     "text": [
      "Files already downloaded and verified\n"
     ]
    }
   ],
   "source": [
    "# Download Caltech101 Data, Only need to run this cell once\n",
    "dataset = datasets.Caltech101(\n",
    "    root=\"dataset\",\n",
    "    download=True\n",
    ")"
   ]
  },
  {
   "cell_type": "code",
   "execution_count": 380,
   "metadata": {},
   "outputs": [],
   "source": [
    "# Make size consistant\n",
    "transform = transforms.Compose([\n",
    "    transforms.Resize((256, 256)),\n",
    "    transforms.GaussianBlur(5, 1),\n",
    "    transforms.ToTensor(),\n",
    "])\n",
    "dataset.transform = transform"
   ]
  },
  {
   "cell_type": "code",
   "execution_count": 381,
   "metadata": {},
   "outputs": [],
   "source": [
    "# Make number of channels consistant (some pics are B&W so we will convert them to 3 channels by duplicating the single channel)\n",
    "num = 0\n",
    "new_dataset = []\n",
    "for i in range(len(dataset)):\n",
    "    if dataset[i][0].shape != torch.Size([3, 256, 256]):\n",
    "        new_dataset.append((dataset[i][0].repeat(3,1,1) , dataset[i][1]))\n",
    "    else:\n",
    "        new_dataset.append((dataset[i][0] , dataset[i][1]))"
   ]
  },
  {
   "cell_type": "code",
   "execution_count": 382,
   "metadata": {},
   "outputs": [
    {
     "name": "stdout",
     "output_type": "stream",
     "text": [
      "6941\n",
      "1736\n"
     ]
    }
   ],
   "source": [
    "# Use a 80/20 split for train/test\n",
    "train_len = int(len(new_dataset) * .8)\n",
    "train, test = torch.utils.data.random_split(new_dataset, [train_len, len(new_dataset) - train_len])\n",
    "print(len(train))\n",
    "print(len(test))"
   ]
  },
  {
   "cell_type": "code",
   "execution_count": 537,
   "metadata": {},
   "outputs": [],
   "source": [
    "# Relatively light NN with no pretrained elements\n",
    "class simpleNet(nn.Module):\n",
    "    def __init__(self):\n",
    "        super().__init__()\n",
    "        self.cnn = nn.Sequential(\n",
    "            nn.Conv2d(3, 64, (7,7), 2),\n",
    "            nn.MaxPool2d(3, 3),\n",
    "            nn.BatchNorm2d(64),\n",
    "            nn.ReLU(),\n",
    "            nn.Conv2d(64, 196, (5,5), 2),\n",
    "            nn.MaxPool2d(2, 2),\n",
    "            nn.BatchNorm2d(196),\n",
    "            nn.ReLU(),\n",
    "            nn.Conv2d(196, 256, (3,3), 2)\n",
    "        )\n",
    "        self.flatten = nn.Flatten()\n",
    "        self.fclayer = nn.Sequential(\n",
    "            nn.Linear(256 * 4 * 4, 256*4),\n",
    "            nn.ReLU(),\n",
    "            nn.Dropout(p=.5),\n",
    "            nn.Linear(256 * 4, 101)\n",
    "        )\n",
    "    def forward(self, x):\n",
    "        x = self.cnn(x)\n",
    "        x = self.flatten(x)\n",
    "        x = self.fclayer(x)\n",
    "        return x"
   ]
  },
  {
   "cell_type": "code",
   "execution_count": 538,
   "metadata": {},
   "outputs": [
    {
     "data": {
      "text/plain": [
       "simpleNet(\n",
       "  (cnn): Sequential(\n",
       "    (0): Conv2d(3, 64, kernel_size=(7, 7), stride=(2, 2))\n",
       "    (1): MaxPool2d(kernel_size=3, stride=3, padding=0, dilation=1, ceil_mode=False)\n",
       "    (2): BatchNorm2d(64, eps=1e-05, momentum=0.1, affine=True, track_running_stats=True)\n",
       "    (3): ReLU()\n",
       "    (4): Conv2d(64, 196, kernel_size=(5, 5), stride=(2, 2))\n",
       "    (5): MaxPool2d(kernel_size=2, stride=2, padding=0, dilation=1, ceil_mode=False)\n",
       "    (6): BatchNorm2d(196, eps=1e-05, momentum=0.1, affine=True, track_running_stats=True)\n",
       "    (7): ReLU()\n",
       "    (8): Conv2d(196, 256, kernel_size=(3, 3), stride=(2, 2))\n",
       "  )\n",
       "  (flatten): Flatten(start_dim=1, end_dim=-1)\n",
       "  (fclayer): Sequential(\n",
       "    (0): Linear(in_features=4096, out_features=1024, bias=True)\n",
       "    (1): ReLU()\n",
       "    (2): Dropout(p=0.5, inplace=False)\n",
       "    (3): Linear(in_features=1024, out_features=101, bias=True)\n",
       "  )\n",
       ")"
      ]
     },
     "execution_count": 538,
     "metadata": {},
     "output_type": "execute_result"
    }
   ],
   "source": [
    "# Print model\n",
    "model = simpleNet().to(device)\n",
    "model"
   ]
  },
  {
   "cell_type": "code",
   "execution_count": 539,
   "metadata": {},
   "outputs": [],
   "source": [
    "# Hyper Params\n",
    "batch_size = 64\n",
    "loss_func = nn.CrossEntropyLoss()\n",
    "lr = .0001\n",
    "weight_decay = .008\n",
    "optimizer = optim.Adam(model.parameters(), lr=lr, weight_decay=weight_decay)\n",
    "epochs = 30\n",
    "scheduler = optim.lr_scheduler.StepLR(optimizer, step_size=epochs/3, gamma=0.3)\n"
   ]
  },
  {
   "cell_type": "code",
   "execution_count": 540,
   "metadata": {},
   "outputs": [],
   "source": [
    "train_dataloader = torch.utils.data.DataLoader(train, batch_size=batch_size)\n",
    "test_dataloader = torch.utils.data.DataLoader(test, batch_size=batch_size)"
   ]
  },
  {
   "cell_type": "code",
   "execution_count": 541,
   "metadata": {},
   "outputs": [
    {
     "name": "stdout",
     "output_type": "stream",
     "text": [
      "Epoch: 0 Train_Avg_Loss: 3.38117280 Train Accuracy: 29.62%\n",
      "Epoch: 0 Test_Avg_Loss: 2.69020818 Test Accuracy: 41.65%\n",
      "Epoch: 1 Train_Avg_Loss: 2.34918172 Train Accuracy: 48.00%\n",
      "Epoch: 1 Test_Avg_Loss: 2.04065637 Test Accuracy: 53.97%\n",
      "Epoch: 2 Train_Avg_Loss: 1.79045512 Train Accuracy: 58.33%\n",
      "Epoch: 2 Test_Avg_Loss: 1.73828100 Test Accuracy: 60.77%\n",
      "Epoch: 3 Train_Avg_Loss: 1.42816292 Train Accuracy: 65.84%\n",
      "Epoch: 3 Test_Avg_Loss: 1.52687534 Test Accuracy: 64.23%\n",
      "Epoch: 4 Train_Avg_Loss: 1.17957105 Train Accuracy: 71.10%\n",
      "Epoch: 4 Test_Avg_Loss: 1.43556423 Test Accuracy: 66.42%\n",
      "Epoch: 5 Train_Avg_Loss: 0.99733618 Train Accuracy: 75.41%\n",
      "Epoch: 5 Test_Avg_Loss: 1.33987961 Test Accuracy: 69.12%\n",
      "Epoch: 6 Train_Avg_Loss: 0.85202560 Train Accuracy: 79.15%\n",
      "Epoch: 6 Test_Avg_Loss: 1.31520597 Test Accuracy: 69.41%\n",
      "Epoch: 7 Train_Avg_Loss: 0.72716044 Train Accuracy: 82.06%\n",
      "Epoch: 7 Test_Avg_Loss: 1.31315564 Test Accuracy: 69.12%\n",
      "Epoch: 8 Train_Avg_Loss: 0.64357382 Train Accuracy: 84.11%\n",
      "Epoch: 8 Test_Avg_Loss: 1.22673964 Test Accuracy: 70.62%\n",
      "Epoch: 9 Train_Avg_Loss: 0.56434875 Train Accuracy: 86.37%\n",
      "Epoch: 9 Test_Avg_Loss: 1.25118002 Test Accuracy: 70.16%\n",
      "Epoch: 10 Train_Avg_Loss: 0.43838435 Train Accuracy: 90.45%\n",
      "Epoch: 10 Test_Avg_Loss: 1.12458379 Test Accuracy: 73.62%\n",
      "Epoch: 11 Train_Avg_Loss: 0.41790166 Train Accuracy: 90.40%\n",
      "Epoch: 11 Test_Avg_Loss: 1.12938060 Test Accuracy: 73.73%\n",
      "Epoch: 12 Train_Avg_Loss: 0.38260030 Train Accuracy: 92.02%\n",
      "Epoch: 12 Test_Avg_Loss: 1.12241414 Test Accuracy: 73.56%\n",
      "Epoch: 13 Train_Avg_Loss: 0.37255995 Train Accuracy: 92.18%\n",
      "Epoch: 13 Test_Avg_Loss: 1.11674294 Test Accuracy: 73.91%\n",
      "Epoch: 14 Train_Avg_Loss: 0.36055332 Train Accuracy: 92.72%\n",
      "Epoch: 14 Test_Avg_Loss: 1.10809876 Test Accuracy: 73.73%\n",
      "Epoch: 15 Train_Avg_Loss: 0.34475666 Train Accuracy: 92.75%\n",
      "Epoch: 15 Test_Avg_Loss: 1.10452761 Test Accuracy: 73.85%\n",
      "Epoch: 16 Train_Avg_Loss: 0.34241702 Train Accuracy: 92.93%\n",
      "Epoch: 16 Test_Avg_Loss: 1.10802386 Test Accuracy: 73.96%\n",
      "Epoch: 17 Train_Avg_Loss: 0.32072679 Train Accuracy: 93.68%\n",
      "Epoch: 17 Test_Avg_Loss: 1.10264663 Test Accuracy: 74.14%\n",
      "Epoch: 18 Train_Avg_Loss: 0.31115746 Train Accuracy: 93.86%\n",
      "Epoch: 18 Test_Avg_Loss: 1.09949155 Test Accuracy: 74.37%\n",
      "Epoch: 19 Train_Avg_Loss: 0.30580482 Train Accuracy: 94.21%\n",
      "Epoch: 19 Test_Avg_Loss: 1.09808570 Test Accuracy: 73.96%\n",
      "Epoch: 20 Train_Avg_Loss: 0.28476555 Train Accuracy: 94.81%\n",
      "Epoch: 20 Test_Avg_Loss: 1.08967798 Test Accuracy: 74.19%\n",
      "Epoch: 21 Train_Avg_Loss: 0.27427087 Train Accuracy: 95.10%\n",
      "Epoch: 21 Test_Avg_Loss: 1.08852491 Test Accuracy: 74.88%\n",
      "Epoch: 22 Train_Avg_Loss: 0.27060351 Train Accuracy: 95.17%\n",
      "Epoch: 22 Test_Avg_Loss: 1.08787899 Test Accuracy: 74.37%\n",
      "Epoch: 23 Train_Avg_Loss: 0.26214040 Train Accuracy: 95.62%\n",
      "Epoch: 23 Test_Avg_Loss: 1.08975561 Test Accuracy: 74.48%\n",
      "Epoch: 24 Train_Avg_Loss: 0.26241665 Train Accuracy: 95.22%\n",
      "Epoch: 24 Test_Avg_Loss: 1.08556658 Test Accuracy: 74.48%\n",
      "Epoch: 25 Train_Avg_Loss: 0.25737723 Train Accuracy: 95.84%\n",
      "Epoch: 25 Test_Avg_Loss: 1.08874814 Test Accuracy: 74.54%\n",
      "Epoch: 26 Train_Avg_Loss: 0.25524050 Train Accuracy: 95.49%\n",
      "Epoch: 26 Test_Avg_Loss: 1.08402497 Test Accuracy: 74.48%\n",
      "Epoch: 27 Train_Avg_Loss: 0.25141689 Train Accuracy: 95.82%\n",
      "Epoch: 27 Test_Avg_Loss: 1.08904349 Test Accuracy: 74.37%\n",
      "Epoch: 28 Train_Avg_Loss: 0.24511524 Train Accuracy: 96.08%\n",
      "Epoch: 28 Test_Avg_Loss: 1.08697942 Test Accuracy: 74.37%\n",
      "Epoch: 29 Train_Avg_Loss: 0.24547391 Train Accuracy: 95.94%\n",
      "Epoch: 29 Test_Avg_Loss: 1.08393798 Test Accuracy: 74.48%\n"
     ]
    }
   ],
   "source": [
    "train_losses = []\n",
    "test_losses = []\n",
    "train_accuracy = []\n",
    "test_accuracy = []\n",
    "for i in range(epochs):\n",
    "    # variables needed for metrics later\n",
    "    train_size = len(train_dataloader.dataset)\n",
    "    model.train()\n",
    "    train_loss = 0\n",
    "    train_correct = 0\n",
    "    train_num_batches = len(train_dataloader)\n",
    "    for batch, (X, labels) in enumerate(train_dataloader):\n",
    "        X = X.to(device)\n",
    "        labels = labels.to(device)\n",
    "\n",
    "        # Model pred + loss\n",
    "        pred = model(X)\n",
    "        loss = loss_func(pred, labels)\n",
    "\n",
    "        # Backprop\n",
    "        optimizer.zero_grad()\n",
    "        loss.backward()\n",
    "        optimizer.step()\n",
    "        \n",
    "        # Compute metrics\n",
    "        train_loss+=loss.item()\n",
    "        train_correct+=(pred.argmax(axis = 1) == labels).type(torch.float).sum().item()\n",
    "    train_losses.append(train_loss/train_num_batches)\n",
    "    train_accuracy.append(train_correct/train_size)\n",
    "    \n",
    "\n",
    "\n",
    "    test_size = len(test_dataloader.dataset)\n",
    "    test_num_batches = len(test_dataloader)\n",
    "    model.eval()\n",
    "    test_loss = 0\n",
    "    test_correct = 0\n",
    "    with torch.no_grad():\n",
    "        for X, labels in test_dataloader:\n",
    "            X = X.to(device)\n",
    "            labels = labels.to(device)\n",
    "\n",
    "            # Model pred + loss\n",
    "            pred = model(X)\n",
    "            loss = loss_func(pred, labels)\n",
    "\n",
    "            # Compute metrics\n",
    "            test_loss+=loss.item()\n",
    "            test_correct+=(pred.argmax(axis = 1) == labels).type(torch.float).sum().item()\n",
    "        test_losses.append(test_loss/test_num_batches)\n",
    "        test_accuracy.append(test_correct/test_size)\n",
    "    scheduler.step()\n",
    "    if i % 1 == 0: #Change if it is generating too many lines\n",
    "        print(f\"Epoch: {i} Train_Avg_Loss: {(train_losses[-1]):2.8f} Train Accuracy: {(train_accuracy[-1]*100):3.2f}%\")\n",
    "        print(f\"Epoch: {i} Test_Avg_Loss: {(test_losses[-1]):2.8f} Test Accuracy: {(test_accuracy[-1]*100):3.2f}%\")"
   ]
  },
  {
   "cell_type": "code",
   "execution_count": 542,
   "metadata": {},
   "outputs": [
    {
     "data": {
      "image/png": "[encoded data removed]",
      "text/plain": [
       "<Figure size 640x480 with 1 Axes>"
      ]
     },
     "metadata": {},
     "output_type": "display_data"
    }
   ],
   "source": [
    "# Graphs! (Accuracy)\n",
    "x = np.arange(0, epochs)\n",
    " \n",
    "plt.title(\"Train/Test Accuracy Curve\")\n",
    "plt.xlabel(\"Accuracy\")\n",
    "plt.ylabel(\"Epochs\")\n",
    "plt.plot(x, train_accuracy, color =\"red\", label = \"Train Accuracy\")\n",
    "plt.plot(x, test_accuracy, color =\"blue\", label = \"Test Accuracy\")\n",
    "plt.legend()\n",
    "plt.show()"
   ]
  },
  {
   "cell_type": "code",
   "execution_count": 543,
   "metadata": {},
   "outputs": [
    {
     "data": {
      "image/png": "[encoded data removed]",
      "text/plain": [
       "<Figure size 640x480 with 1 Axes>"
      ]
     },
     "metadata": {},
     "output_type": "display_data"
    }
   ],
   "source": [
    "# Graphs! (Loss)\n",
    "x = np.arange(0, epochs)\n",
    " \n",
    "plt.title(\"Train/Test Accuracy Curve\")\n",
    "plt.xlabel(\"Accuracy\")\n",
    "plt.ylabel(\"Epochs\")\n",
    "plt.plot(x, train_losses, color =\"red\", label = \"Train Loss\")\n",
    "plt.plot(x, test_losses, color =\"blue\", label = \"Test Loss\")\n",
    "plt.legend()\n",
    "plt.show()"
   ]
  }
 ],
 "metadata": {
  "kernelspec": {
   "display_name": "Python 3",
   "language": "python",
   "name": "python3"
  },
  "language_info": {
   "codemirror_mode": {
    "name": "ipython",
    "version": 3
   },
   "file_extension": ".py",
   "mimetype": "text/x-python",
   "name": "python",
   "nbconvert_exporter": "python",
   "pygments_lexer": "ipython3",
   "version": "3.9.16"
  },
  "orig_nbformat": 4
 },
 "nbformat": 4,
 "nbformat_minor": 2
}
